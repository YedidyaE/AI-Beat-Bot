{
 "cells": [
  {
   "cell_type": "markdown",
   "metadata": {},
   "source": [
    "## Explore Instruments"
   ]
  },
  {
   "cell_type": "code",
   "execution_count": 37,
   "metadata": {},
   "outputs": [],
   "source": [
    "from music21 import converter, corpus, instrument, midi, note, chord, pitch\n",
    "import glob\n",
    "import music21"
   ]
  },
  {
   "cell_type": "code",
   "execution_count": 52,
   "metadata": {},
   "outputs": [],
   "source": [
    "midi_files = '/Users/anant.a.sharma/Desktop/Darya/AI-Jukebox/DATA/Jazz/*.mid'\n",
    "songs = glob.glob(midi_files)"
   ]
  },
  {
   "cell_type": "code",
   "execution_count": 124,
   "metadata": {},
   "outputs": [
    {
     "name": "stdout",
     "output_type": "stream",
     "text": [
      "badly formated midi bytes, got: b'\\x1f\\x8b\\x08\\x00\\x00\\x00\\x00\\x00\\x00\\x03,]u@\\x93_\\x17~7\\xb6'\n"
     ]
    }
   ],
   "source": [
    "instrument_list = []\n",
    "for s in songs[:50]:\n",
    "    try:\n",
    "        midi = converter.parse(s)\n",
    "        for m in midi.parts:\n",
    "            instruments = m.getInstrument().instrumentName\n",
    "            instrument_list.append((instruments))\n",
    "    except Exception as e:\n",
    "        print(e)\n",
    "        pass"
   ]
  },
  {
   "cell_type": "code",
   "execution_count": 125,
   "metadata": {},
   "outputs": [
    {
     "data": {
      "text/plain": [
       "['Electric Guitar',\n",
       " 'Baritone Saxophone',\n",
       " 'Violin',\n",
       " 'English Horn',\n",
       " 'Trombone',\n",
       " 'Dulcimer',\n",
       " 'Electric Bass',\n",
       " 'Brass',\n",
       " 'Saxophone',\n",
       " 'Fretless Bass',\n",
       " 'Glockenspiel',\n",
       " 'Trumpet',\n",
       " 'Acoustic Bass',\n",
       " 'Contrabass',\n",
       " 'Clavichord',\n",
       " 'Guitar',\n",
       " 'Marimba',\n",
       " 'StringInstrument',\n",
       " 'Horn',\n",
       " 'Voice',\n",
       " 'Sitar',\n",
       " 'Electric Organ',\n",
       " 'Vibraphone',\n",
       " 'Recorder',\n",
       " 'Clarinet',\n",
       " 'Tenor Saxophone',\n",
       " 'Tuba',\n",
       " 'Harmonica',\n",
       " 'Kalimba',\n",
       " None,\n",
       " 'Whistle',\n",
       " 'Celesta',\n",
       " 'Piano']"
      ]
     },
     "execution_count": 125,
     "metadata": {},
     "output_type": "execute_result"
    }
   ],
   "source": [
    "instrument_list = list(set(instrument_list))\n",
    "instrument_list"
   ]
  },
  {
   "cell_type": "code",
   "execution_count": null,
   "metadata": {},
   "outputs": [],
   "source": []
  }
 ],
 "metadata": {
  "kernelspec": {
   "display_name": "Python 3",
   "language": "python",
   "name": "python3"
  },
  "language_info": {
   "codemirror_mode": {
    "name": "ipython",
    "version": 3
   },
   "file_extension": ".py",
   "mimetype": "text/x-python",
   "name": "python",
   "nbconvert_exporter": "python",
   "pygments_lexer": "ipython3",
   "version": "3.6.7"
  }
 },
 "nbformat": 4,
 "nbformat_minor": 2
}
